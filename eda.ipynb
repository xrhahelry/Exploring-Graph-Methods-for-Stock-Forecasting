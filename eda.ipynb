{
 "cells": [
  {
   "cell_type": "code",
   "execution_count": null,
   "metadata": {},
   "outputs": [],
   "source": [
    "import matplotlib.pyplot as plt\n",
    "import networkx as nx\n",
    "import pandas as pd\n",
    "import seaborn as sns\n",
    "import torch\n",
    "from torch_geometric.data import Data\n",
    "from torch_geometric.utils.convert import from_networkx, to_networkx"
   ]
  },
  {
   "cell_type": "code",
   "execution_count": null,
   "metadata": {},
   "outputs": [],
   "source": [
    "df = pd.read_csv(\"./data/Nabil Bank Limited ( NABIL ).csv\")\n",
    "df = df.drop(columns=[\"published_date\", \"status\"])"
   ]
  },
  {
   "cell_type": "code",
   "execution_count": 13,
   "metadata": {},
   "outputs": [
    {
     "name": "stdout",
     "output_type": "stream",
     "text": [
      "<class 'pandas.core.frame.DataFrame'>\n",
      "RangeIndex: 2935 entries, 0 to 2934\n",
      "Data columns (total 7 columns):\n",
      " #   Column           Non-Null Count  Dtype  \n",
      "---  ------           --------------  -----  \n",
      " 0   open             2935 non-null   float64\n",
      " 1   high             2935 non-null   float64\n",
      " 2   low              2935 non-null   float64\n",
      " 3   close            2935 non-null   float64\n",
      " 4   per_change       2934 non-null   float64\n",
      " 5   traded_quantity  2935 non-null   float64\n",
      " 6   traded_amount    2935 non-null   float64\n",
      "dtypes: float64(7)\n",
      "memory usage: 160.6 KB\n"
     ]
    }
   ],
   "source": [
    "df.info()"
   ]
  },
  {
   "cell_type": "code",
   "execution_count": 14,
   "metadata": {},
   "outputs": [
    {
     "data": {
      "text/html": [
       "<div>\n",
       "<style scoped>\n",
       "    .dataframe tbody tr th:only-of-type {\n",
       "        vertical-align: middle;\n",
       "    }\n",
       "\n",
       "    .dataframe tbody tr th {\n",
       "        vertical-align: top;\n",
       "    }\n",
       "\n",
       "    .dataframe thead th {\n",
       "        text-align: right;\n",
       "    }\n",
       "</style>\n",
       "<table border=\"1\" class=\"dataframe\">\n",
       "  <thead>\n",
       "    <tr style=\"text-align: right;\">\n",
       "      <th></th>\n",
       "      <th>open</th>\n",
       "      <th>high</th>\n",
       "      <th>low</th>\n",
       "      <th>close</th>\n",
       "      <th>per_change</th>\n",
       "      <th>traded_quantity</th>\n",
       "      <th>traded_amount</th>\n",
       "    </tr>\n",
       "  </thead>\n",
       "  <tbody>\n",
       "    <tr>\n",
       "      <th>count</th>\n",
       "      <td>2935.000000</td>\n",
       "      <td>2935.000000</td>\n",
       "      <td>2935.000000</td>\n",
       "      <td>2935.000000</td>\n",
       "      <td>2934.000000</td>\n",
       "      <td>2935.000000</td>\n",
       "      <td>2.935000e+03</td>\n",
       "    </tr>\n",
       "    <tr>\n",
       "      <th>mean</th>\n",
       "      <td>1331.372879</td>\n",
       "      <td>1345.658296</td>\n",
       "      <td>1314.987325</td>\n",
       "      <td>1330.406405</td>\n",
       "      <td>0.024059</td>\n",
       "      <td>28257.086201</td>\n",
       "      <td>3.069377e+07</td>\n",
       "    </tr>\n",
       "    <tr>\n",
       "      <th>std</th>\n",
       "      <td>563.054994</td>\n",
       "      <td>570.868204</td>\n",
       "      <td>557.889095</td>\n",
       "      <td>565.095731</td>\n",
       "      <td>2.235349</td>\n",
       "      <td>48984.716252</td>\n",
       "      <td>6.137749e+07</td>\n",
       "    </tr>\n",
       "    <tr>\n",
       "      <th>min</th>\n",
       "      <td>429.500000</td>\n",
       "      <td>432.000000</td>\n",
       "      <td>422.000000</td>\n",
       "      <td>424.000000</td>\n",
       "      <td>-26.930000</td>\n",
       "      <td>24.000000</td>\n",
       "      <td>2.164600e+04</td>\n",
       "    </tr>\n",
       "    <tr>\n",
       "      <th>25%</th>\n",
       "      <td>848.000000</td>\n",
       "      <td>855.000000</td>\n",
       "      <td>836.000000</td>\n",
       "      <td>845.000000</td>\n",
       "      <td>-0.800000</td>\n",
       "      <td>2401.500000</td>\n",
       "      <td>3.590220e+06</td>\n",
       "    </tr>\n",
       "    <tr>\n",
       "      <th>50%</th>\n",
       "      <td>1220.000000</td>\n",
       "      <td>1240.000000</td>\n",
       "      <td>1200.000000</td>\n",
       "      <td>1220.000000</td>\n",
       "      <td>-0.045000</td>\n",
       "      <td>6523.000000</td>\n",
       "      <td>9.077408e+06</td>\n",
       "    </tr>\n",
       "    <tr>\n",
       "      <th>75%</th>\n",
       "      <td>1800.000000</td>\n",
       "      <td>1824.000000</td>\n",
       "      <td>1795.000000</td>\n",
       "      <td>1800.000000</td>\n",
       "      <td>0.680000</td>\n",
       "      <td>36814.500000</td>\n",
       "      <td>2.981227e+07</td>\n",
       "    </tr>\n",
       "    <tr>\n",
       "      <th>max</th>\n",
       "      <td>2720.000000</td>\n",
       "      <td>2800.000000</td>\n",
       "      <td>2700.000000</td>\n",
       "      <td>2750.000000</td>\n",
       "      <td>20.870000</td>\n",
       "      <td>705430.000000</td>\n",
       "      <td>1.179786e+09</td>\n",
       "    </tr>\n",
       "  </tbody>\n",
       "</table>\n",
       "</div>"
      ],
      "text/plain": [
       "              open         high          low        close   per_change  \\\n",
       "count  2935.000000  2935.000000  2935.000000  2935.000000  2934.000000   \n",
       "mean   1331.372879  1345.658296  1314.987325  1330.406405     0.024059   \n",
       "std     563.054994   570.868204   557.889095   565.095731     2.235349   \n",
       "min     429.500000   432.000000   422.000000   424.000000   -26.930000   \n",
       "25%     848.000000   855.000000   836.000000   845.000000    -0.800000   \n",
       "50%    1220.000000  1240.000000  1200.000000  1220.000000    -0.045000   \n",
       "75%    1800.000000  1824.000000  1795.000000  1800.000000     0.680000   \n",
       "max    2720.000000  2800.000000  2700.000000  2750.000000    20.870000   \n",
       "\n",
       "       traded_quantity  traded_amount  \n",
       "count      2935.000000   2.935000e+03  \n",
       "mean      28257.086201   3.069377e+07  \n",
       "std       48984.716252   6.137749e+07  \n",
       "min          24.000000   2.164600e+04  \n",
       "25%        2401.500000   3.590220e+06  \n",
       "50%        6523.000000   9.077408e+06  \n",
       "75%       36814.500000   2.981227e+07  \n",
       "max      705430.000000   1.179786e+09  "
      ]
     },
     "execution_count": 14,
     "metadata": {},
     "output_type": "execute_result"
    }
   ],
   "source": [
    "df.describe()"
   ]
  },
  {
   "cell_type": "code",
   "execution_count": null,
   "metadata": {},
   "outputs": [],
   "source": [
    "col_num = len(df.columns)\n",
    "fig, axes = plt.subplots(col_num, 1, figsize=(6, 4 * col_num), constrained_layout=True)\n",
    "\n",
    "for i, column in enumerate(df.columns):\n",
    "    sns.histplot(df[column], kde=True, ax=axes[i])\n",
    "    axes[i].set_title(f\"Histogram of {column} column\")\n",
    "    axes[i].set_xlabel(column)\n",
    "    axes[i].set_ylabel(\"Frequency\")\n",
    "plt.show()"
   ]
  },
  {
   "cell_type": "code",
   "execution_count": null,
   "metadata": {},
   "outputs": [],
   "source": []
  }
 ],
 "metadata": {
  "kernelspec": {
   "display_name": "gnn",
   "language": "python",
   "name": "python3"
  },
  "language_info": {
   "codemirror_mode": {
    "name": "ipython",
    "version": 3
   },
   "file_extension": ".py",
   "mimetype": "text/x-python",
   "name": "python",
   "nbconvert_exporter": "python",
   "pygments_lexer": "ipython3",
   "version": "3.12.5"
  }
 },
 "nbformat": 4,
 "nbformat_minor": 2
}
