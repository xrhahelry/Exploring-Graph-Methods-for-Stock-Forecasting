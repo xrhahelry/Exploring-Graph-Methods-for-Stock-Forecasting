{
 "cells": [
  {
   "cell_type": "code",
   "execution_count": null,
   "metadata": {},
   "outputs": [],
   "source": [
    "import json\n",
    "import networkx as nx\n",
    "import pandas as pd\n",
    "import numpy as np\n",
    "import matplotlib.pyplot as plt\n",
    "import seaborn as sns\n",
    "import torch\n",
    "from torch_geometric.loader import DataLoader\n",
    "from torch_geometric.data import Data\n",
    "from sklearn.metrics import mean_squared_error, mean_absolute_error\n",
    "from sklearn.model_selection import train_test_split\n",
    "from torch_geometric.utils.convert import from_networkx\n",
    "import torch.nn as nn\n",
    "import torch.nn.functional as F\n",
    "from torch_geometric.nn import GCNConv, global_mean_pool\n",
    "from sklearn.preprocessing import StandardScaler\n",
    "import joblib"
   ]
  },
  {
   "cell_type": "code",
   "execution_count": 57,
   "metadata": {},
   "outputs": [],
   "source": [
    "class GCN(nn.Module):\n",
    "    def __init__(self, input_size, hidden_size, output_size):\n",
    "        super(GCN, self).__init__()\n",
    "        self.conv1 = GCNConv(input_size, hidden_size)\n",
    "        self.conv2 = GCNConv(hidden_size, hidden_size)\n",
    "        self.lin = nn.Linear(hidden_size, output_size)\n",
    "\n",
    "    def forward(self, x, edge_index, batch):\n",
    "        x = self.conv1(x, edge_index)\n",
    "        x = F.relu(x)\n",
    "        x = self.conv2(x, edge_index)\n",
    "        x = F.relu(x)\n",
    "        x = global_mean_pool(x, batch)\n",
    "        x = self.lin(x)\n",
    "        return x"
   ]
  },
  {
   "cell_type": "code",
   "execution_count": null,
   "metadata": {},
   "outputs": [],
   "source": [
    "# Load the model\n",
    "input_size = 7\n",
    "hidden_size = 512\n",
    "output_size = 7\n",
    "\n",
    "device = torch.device(\"cuda\" if torch.cuda.is_available() else \"cpu\")\n",
    "model = GCN(input_size, hidden_size, output_size)\n",
    "model.load_state_dict(torch.load(\"./models/gcn_nabil.pth\", map_location=device), strict=True)\n",
    "model = model.to(device)\n",
    "model.eval()\n"
   ]
  },
  {
   "cell_type": "code",
   "execution_count": null,
   "metadata": {},
   "outputs": [],
   "source": [
    "graphs = torch.load(\"./graphs/cb_nabil.pt\", weights_only=False)\n",
    "train, val = train_test_split(graphs, test_size=0.2, random_state=12)\n",
    "train_graphs = DataLoader(train, batch_size=32, shuffle=True)\n",
    "val_graphs = DataLoader(val, batch_size=32, shuffle=False)\n",
    "test_load = torch.load(\"./graphs/cb_nabil_test.pt\")\n",
    "test_graphs = DataLoader(test_load, batch_size=32, shuffle=False)"
   ]
  },
  {
   "cell_type": "code",
   "execution_count": 61,
   "metadata": {},
   "outputs": [],
   "source": [
    "# Function to generate predictions\n",
    "def generate_predictions(graphs):\n",
    "    predictions = []\n",
    "    ground_truth = []\n",
    "    for batch in graphs:\n",
    "        batch = batch.to(device)\n",
    "        with torch.no_grad():\n",
    "            output = model(batch.x, batch.edge_index, batch.batch)\n",
    "            output = output.view(-1)\n",
    "            predictions.append(output.cpu().numpy())\n",
    "            ground_truth.append(batch.y.cpu().numpy())\n",
    "\n",
    "    predictions = np.concatenate(predictions, axis=0)\n",
    "    ground_truth = np.concatenate(ground_truth, axis=0)\n",
    "\n",
    "    # Reshape to match the original feature dimensions\n",
    "    predictions = predictions.reshape(-1, output_size)\n",
    "    ground_truth = ground_truth.reshape(-1, output_size)\n",
    "\n",
    "    # Inverse transform to the original scale\n",
    "    predictions_original = scaler.inverse_transform(predictions)\n",
    "    ground_truth_original = scaler.inverse_transform(ground_truth)\n",
    "\n",
    "    # Convert to DataFrames\n",
    "    predictions_df = pd.DataFrame(predictions_original, columns=df.columns)\n",
    "    ground_truth_df = pd.DataFrame(ground_truth_original, columns=df.columns)\n",
    "\n",
    "    # Add a 'published_date' column for plotting\n",
    "    predictions_df['published_date'] = np.arange(len(predictions_df))\n",
    "    ground_truth_df['published_date'] = np.arange(len(ground_truth_df))\n",
    "\n",
    "    return predictions_df, ground_truth_df\n"
   ]
  },
  {
   "cell_type": "code",
   "execution_count": 62,
   "metadata": {},
   "outputs": [],
   "source": [
    "# Generate predictions for validation and test sets\n",
    "val_predictions_df, val_ground_truth_df = generate_predictions(val_graphs)\n",
    "test_predictions_df, test_ground_truth_df = generate_predictions(test_graphs)\n"
   ]
  },
  {
   "cell_type": "code",
   "execution_count": null,
   "metadata": {},
   "outputs": [],
   "source": [
    "test_ground_truth_df.head()"
   ]
  },
  {
   "cell_type": "code",
   "execution_count": null,
   "metadata": {},
   "outputs": [],
   "source": [
    "test_predictions_df.head()"
   ]
  },
  {
   "cell_type": "code",
   "execution_count": null,
   "metadata": {},
   "outputs": [],
   "source": [
    "# Plot test set\n",
    "for col in df.columns:\n",
    "    plt.figure(figsize=(20, 10))\n",
    "    sns.lineplot(data=test_ground_truth_df, x='published_date', y=col, color=\"blue\", label=\"Test Ground Truth\")\n",
    "    sns.lineplot(data=test_predictions_df, x='published_date', y=col, color=\"orange\", label=\"Test Predictions\")\n",
    "    plt.title(f\"Test Set: {col}\")\n",
    "    plt.xlabel('Published Date')\n",
    "    plt.ylabel('Value')\n",
    "    plt.legend()\n",
    "    plt.show()"
   ]
  },
  {
   "cell_type": "code",
   "execution_count": null,
   "metadata": {},
   "outputs": [],
   "source": []
  }
 ],
 "metadata": {
  "kernelspec": {
   "display_name": "gnn",
   "language": "python",
   "name": "python3"
  },
  "language_info": {
   "codemirror_mode": {
    "name": "ipython",
    "version": 3
   },
   "file_extension": ".py",
   "mimetype": "text/x-python",
   "name": "python",
   "nbconvert_exporter": "python",
   "pygments_lexer": "ipython3",
   "version": "3.12.5"
  }
 },
 "nbformat": 4,
 "nbformat_minor": 2
}
