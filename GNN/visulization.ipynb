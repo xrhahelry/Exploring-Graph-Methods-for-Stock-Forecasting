{
 "cells": [
  {
   "cell_type": "code",
   "execution_count": 1,
   "metadata": {},
   "outputs": [],
   "source": [
    "import torch\n",
    "import plotly.graph_objects as go\n",
    "from torch_geometric.data import Data\n",
    "import networkx as nx\n",
    "from torch_geometric.utils.convert import from_networkx, to_networkx"
   ]
  },
  {
   "cell_type": "code",
   "execution_count": 8,
   "metadata": {},
   "outputs": [
    {
     "name": "stderr",
     "output_type": "stream",
     "text": [
      "C:\\Users\\acer\\AppData\\Local\\Temp\\ipykernel_18184\\1181855531.py:2: FutureWarning: You are using `torch.load` with `weights_only=False` (the current default value), which uses the default pickle module implicitly. It is possible to construct malicious pickle data which will execute arbitrary code during unpickling (See https://github.com/pytorch/pytorch/blob/main/SECURITY.md#untrusted-models for more details). In a future release, the default value for `weights_only` will be flipped to `True`. This limits the functions that could be executed during unpickling. Arbitrary objects will no longer be allowed to be loaded via this mode unless they are explicitly allowlisted by the user via `torch.serialization.add_safe_globals`. We recommend you start setting `weights_only=True` for any use case where you don't have full control of the loaded file. Please open an issue on GitHub for any issues related to this experimental feature.\n",
      "  graph_data = torch.load(file_path)\n"
     ]
    },
    {
     "ename": "ValueError",
     "evalue": "The loaded file does not contain a PyTorch Geometric Data object.",
     "output_type": "error",
     "traceback": [
      "\u001b[1;31m---------------------------------------------------------------------------\u001b[0m",
      "\u001b[1;31mValueError\u001b[0m                                Traceback (most recent call last)",
      "Cell \u001b[1;32mIn[8], line 5\u001b[0m\n\u001b[0;32m      2\u001b[0m graph_data \u001b[38;5;241m=\u001b[39m torch\u001b[38;5;241m.\u001b[39mload(file_path)\n\u001b[0;32m      4\u001b[0m \u001b[38;5;28;01mif\u001b[39;00m \u001b[38;5;129;01mnot\u001b[39;00m \u001b[38;5;28misinstance\u001b[39m(graph_data, Data):\n\u001b[1;32m----> 5\u001b[0m     \u001b[38;5;28;01mraise\u001b[39;00m \u001b[38;5;167;01mValueError\u001b[39;00m(\u001b[38;5;124m\"\u001b[39m\u001b[38;5;124mThe loaded file does not contain a PyTorch Geometric Data object.\u001b[39m\u001b[38;5;124m\"\u001b[39m)\n\u001b[0;32m      7\u001b[0m nx_graph \u001b[38;5;241m=\u001b[39m to_networkx(graph_data, to_undirected\u001b[38;5;241m=\u001b[39m\u001b[38;5;28;01mTrue\u001b[39;00m)\n\u001b[0;32m      9\u001b[0m pos \u001b[38;5;241m=\u001b[39m nx\u001b[38;5;241m.\u001b[39mspring_layout(nx_graph)  \u001b[38;5;66;03m# Force-directed layout\u001b[39;00m\n",
      "\u001b[1;31mValueError\u001b[0m: The loaded file does not contain a PyTorch Geometric Data object."
     ]
    }
   ],
   "source": [
    "file_path = \"graphs/cb_nabil.pt\"  \n",
    "graph_data = torch.load(file_path)\n",
    "\n",
    "if not isinstance(graph_data, Data):\n",
    "    raise ValueError(\"The loaded file does not contain a PyTorch Geometric Data object.\")\n",
    "\n",
    "nx_graph = to_networkx(graph_data, to_undirected=True)\n",
    "\n",
    "pos = nx.spring_layout(nx_graph)  # Force-directed layout\n",
    "\n",
    "x_nodes = [pos[node][0] for node in nx_graph.nodes()]\n",
    "y_nodes = [pos[node][1] for node in nx_graph.nodes()]\n",
    "\n",
    "edge_x = []\n",
    "edge_y = []\n",
    "for edge in nx_graph.edges():\n",
    "    edge_x += [pos[edge[0]][0], pos[edge[1]][0], None]\n",
    "    edge_y += [pos[edge[0]][1], pos[edge[1]][1], None]\n",
    "\n",
    "# Create edge traces\n",
    "edge_trace = go.Scatter(\n",
    "    x=edge_x,\n",
    "    y=edge_y,\n",
    "    line=dict(width=0.5, color=\"#888\"),\n",
    "    hoverinfo=\"none\",\n",
    "    mode=\"lines\"\n",
    ")\n",
    "\n",
    "# Create node traces\n",
    "node_trace = go.Scatter(\n",
    "    x=x_nodes,\n",
    "    y=y_nodes,\n",
    "    mode=\"markers\",\n",
    "    marker=dict(\n",
    "        size=10,\n",
    "        color=list(nx_graph.degree()),  # Node color based on degree\n",
    "        colorscale=\"YlGnBu\",\n",
    "        showscale=True,\n",
    "        colorbar=dict(\n",
    "            title=\"Node Degree\"\n",
    "        )\n",
    "    ),\n",
    "    text=[f\"Node {n}\" for n in nx_graph.nodes()],  # Node labels\n",
    "    hoverinfo=\"text\"\n",
    ")\n",
    "\n",
    "# Create the final figure\n",
    "fig = go.Figure(data=[edge_trace, node_trace],\n",
    "                layout=go.Layout(\n",
    "                    showlegend=False,\n",
    "                    hovermode=\"closest\",\n",
    "                    margin=dict(b=0, l=0, r=0, t=0),\n",
    "                    xaxis=dict(showgrid=False, zeroline=False),\n",
    "                    yaxis=dict(showgrid=False, zeroline=False)\n",
    "                ))\n",
    "\n",
    "# Show the visualization\n",
    "fig.show()"
   ]
  },
  {
   "cell_type": "code",
   "execution_count": null,
   "metadata": {},
   "outputs": [],
   "source": []
  },
  {
   "cell_type": "code",
   "execution_count": null,
   "metadata": {},
   "outputs": [],
   "source": []
  }
 ],
 "metadata": {
  "kernelspec": {
   "display_name": "base",
   "language": "python",
   "name": "python3"
  },
  "language_info": {
   "codemirror_mode": {
    "name": "ipython",
    "version": 3
   },
   "file_extension": ".py",
   "mimetype": "text/x-python",
   "name": "python",
   "nbconvert_exporter": "python",
   "pygments_lexer": "ipython3",
   "version": "3.11.7"
  }
 },
 "nbformat": 4,
 "nbformat_minor": 2
}
