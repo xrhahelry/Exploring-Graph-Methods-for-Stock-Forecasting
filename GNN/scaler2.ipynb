{
 "cells": [
  {
   "cell_type": "code",
   "execution_count": 119,
   "metadata": {},
   "outputs": [],
   "source": [
    "from sklearn.preprocessing import StandardScaler\n",
    "import pandas as pd\n",
    "import numpy as np\n",
    "import json\n",
    "import joblib\n",
    "\n",
    "with open(\"stocks.json\") as json_file:\n",
    "    stock_paths = json.load(json_file)\n",
    "    predict_path = stock_paths[\"lf_predict\"]\n",
    "    other_paths = stock_paths[\"lf\"]\n",
    "    other_paths.append(predict_path)"
   ]
  },
  {
   "cell_type": "code",
   "execution_count": 120,
   "metadata": {},
   "outputs": [],
   "source": [
    "stocks = [pd.read_csv(f\"../data/{path}\") for path in other_paths]"
   ]
  },
  {
   "cell_type": "code",
   "execution_count": 121,
   "metadata": {},
   "outputs": [],
   "source": [
    "def prepare_stocks(df, start_date, end_date):\n",
    "    df = df.drop(columns=[\"status\"])\n",
    "    # df[\"per_change\"] = df[\"per_change\"].fillna(0)\n",
    "    df[\"published_date\"] = pd.to_datetime(df[\"published_date\"])\n",
    "    df.set_index(\"published_date\", inplace=True)\n",
    "    df = df[df.index >= start_date]\n",
    "    if df.isnull().values.any() or np.isinf(df.values).any():\n",
    "        df = df.fillna(df.mean())\n",
    "        df = df.replace([np.inf, -np.inf], np.nan)\n",
    "        df = df.fillna(df.mean())\n",
    "    df = df[df.index < end_date]\n",
    "    return df"
   ]
  },
  {
   "cell_type": "code",
   "execution_count": null,
   "metadata": {},
   "outputs": [],
   "source": [
    "for i, path in enumerate(other_paths):\n",
    "    print(i, \" \", path, \" \", stocks[i].shape)"
   ]
  },
  {
   "cell_type": "code",
   "execution_count": null,
   "metadata": {},
   "outputs": [],
   "source": [
    "stocks = [prepare_stocks(stock, \"2011-03-29\", \"2022-12-22\") for stock in stocks]\n",
    "stocks = pd.concat(stocks)\n",
    "stocks.shape"
   ]
  },
  {
   "cell_type": "code",
   "execution_count": null,
   "metadata": {},
   "outputs": [],
   "source": [
    "scaler = StandardScaler()\n",
    "scaler.fit(stocks)\n",
    "\n",
    "joblib.dump(scaler, \"./scalers/lf.pkl\")"
   ]
  }
 ],
 "metadata": {
  "kernelspec": {
   "display_name": "gnn",
   "language": "python",
   "name": "python3"
  },
  "language_info": {
   "codemirror_mode": {
    "name": "ipython",
    "version": 3
   },
   "file_extension": ".py",
   "mimetype": "text/x-python",
   "name": "python",
   "nbconvert_exporter": "python",
   "pygments_lexer": "ipython3",
   "version": "3.12.5"
  }
 },
 "nbformat": 4,
 "nbformat_minor": 2
}
