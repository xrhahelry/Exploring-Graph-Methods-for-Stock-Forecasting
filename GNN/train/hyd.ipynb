{
 "cells": [
  {
   "cell_type": "code",
   "execution_count": 1,
   "metadata": {},
   "outputs": [],
   "source": [
    "import torch\n",
    "import torch.nn as nn\n",
    "from sklearn.metrics import mean_absolute_error, mean_squared_error\n",
    "from sklearn.model_selection import train_test_split\n",
    "from torch_geometric.loader import DataLoader\n",
    "import torch.nn as nn\n",
    "import torch.nn.functional as F\n",
    "from torch_geometric.nn import GCNConv, global_mean_pool, GATv2Conv\n",
    "import numpy as np\n",
    "import matplotlib.pyplot as plt\n",
    "from tqdm import tqdm"
   ]
  },
  {
   "cell_type": "code",
   "execution_count": 2,
   "metadata": {},
   "outputs": [],
   "source": [
    "class GCN(nn.Module):\n",
    "    def __init__(self, input_size, hidden_size, output_size):\n",
    "        super(GCN, self).__init__()\n",
    "        self.conv1 = GCNConv(input_size, hidden_size)\n",
    "        self.conv2 = GCNConv(hidden_size, hidden_size)\n",
    "        self.lin = nn.Linear(hidden_size, output_size)\n",
    "\n",
    "    def forward(self, x, edge_index, batch):\n",
    "        x = self.conv1(x, edge_index)\n",
    "        x = F.relu(x)\n",
    "        x = self.conv2(x, edge_index)\n",
    "        x = F.relu(x)\n",
    "        x = global_mean_pool(x, batch)\n",
    "        x = self.lin(x)\n",
    "        return x"
   ]
  },
  {
   "cell_type": "code",
   "execution_count": 3,
   "metadata": {},
   "outputs": [],
   "source": [
    "input_size = 7\n",
    "hidden_size = 128\n",
    "output_size = 42\n",
    "epochs = 100\n",
    "learning_rate = 1e-3\n",
    "graph_name = \"hyd\"\n",
    "batch_size = 1"
   ]
  },
  {
   "cell_type": "code",
   "execution_count": 4,
   "metadata": {},
   "outputs": [
    {
     "name": "stdout",
     "output_type": "stream",
     "text": [
      "42\n"
     ]
    }
   ],
   "source": [
    "graphs = torch.load(f\"../graphs/train_graphs/{graph_name}.pt\", weights_only=False)\n",
    "train, val = train_test_split(graphs, test_size=0.2, random_state=12)\n",
    "print(len(train[0].y))\n",
    "train_graphs = DataLoader(train, batch_size=batch_size, shuffle=True)\n",
    "val_graphs = DataLoader(val, batch_size=batch_size, shuffle=False)"
   ]
  },
  {
   "cell_type": "code",
   "execution_count": 5,
   "metadata": {},
   "outputs": [
    {
     "data": {
      "text/plain": [
       "737"
      ]
     },
     "execution_count": 5,
     "metadata": {},
     "output_type": "execute_result"
    }
   ],
   "source": [
    "len(train_graphs)"
   ]
  },
  {
   "cell_type": "code",
   "execution_count": null,
   "metadata": {},
   "outputs": [],
   "source": [
    "device = torch.device(\"cuda\" if torch.cuda.is_available() else \"cpu\")\n",
    "model = GCN(input_size, hidden_size, output_size)\n",
    "model = model.to(device)\n",
    "optimizer = torch.optim.Adam(model.parameters(), lr=learning_rate)\n",
    "warmup_scheduler = torch.optim.lr_scheduler.LinearLR(optimizer, start_factor=0.01, total_iters=3700)\n",
    "main_scheduler = torch.optim.lr_scheduler.CosineAnnealingLR(optimizer, T_max=11100)\n",
    "scheduler = torch.optim.lr_scheduler.SequentialLR(optimizer, schedulers=[warmup_scheduler, main_scheduler], milestones=[3700])\n",
    "ls_fn = nn.MSELoss()\n",
    "\n",
    "\n",
    "best_val_loss = float('inf')\n",
    "training_loss = []\n",
    "validation_loss = []\n",
    "\n",
    "for epoch in range(epochs):\n",
    "    model.train()\n",
    "    total_loss = 0\n",
    "    num_batches = 0\n",
    "\n",
    "    train_iterator = tqdm(train_graphs, desc=f\"Epoch {epoch+1}/{epochs} - Training\", leave=False)\n",
    "    for batch in train_iterator:\n",
    "        batch = batch.to(device)\n",
    "        optimizer.zero_grad()\n",
    "        output = model(batch.x, batch.edge_index, batch.batch)\n",
    "        output = output.view(-1)\n",
    "        loss = ls_fn(output, batch.y)\n",
    "        loss.backward()\n",
    "        optimizer.step()\n",
    "        total_loss += loss.item()\n",
    "        num_batches += 1\n",
    "\n",
    "        train_iterator.set_postfix(loss=total_loss/num_batches)\n",
    "\n",
    "    avg_loss = total_loss / num_batches\n",
    "\n",
    "    model.eval()\n",
    "    val_loss = 0\n",
    "    predictions = []\n",
    "    ground_truth = []\n",
    "\n",
    "    val_iterator = tqdm(val_graphs, desc=f\"Epoch {epoch+1}/{epochs} - Validation\", leave=False)\n",
    "    for batch in val_iterator:\n",
    "        batch = batch.to(device)\n",
    "        with torch.no_grad():\n",
    "            output = model(batch.x, batch.edge_index, batch.batch)\n",
    "            output = output.view(-1)\n",
    "            val_loss += ls_fn(output, batch.y).item()\n",
    "            predictions.append(output.cpu().numpy())\n",
    "            ground_truth.append(batch.y.cpu().numpy())\n",
    "\n",
    "    val_loss /= len(val_graphs)\n",
    "    predictions = np.concatenate(predictions, axis=0)\n",
    "    ground_truth = np.concatenate(ground_truth, axis=0)\n",
    "\n",
    "    val_mse = mean_squared_error(ground_truth, predictions)\n",
    "    val_mae = mean_absolute_error(ground_truth, predictions)\n",
    "\n",
    "    training_loss.append(avg_loss)\n",
    "    validation_loss.append(val_loss)\n",
    "\n",
    "    print(\n",
    "        f\"Epoch: {epoch+1}/{epochs}, Training Loss: {avg_loss:.4f}, Val Loss: {val_loss:.4f}\"\n",
    "    )\n",
    "    scheduler.step()\n",
    "    if val_loss < best_val_loss:\n",
    "        best_val_loss = val_loss\n",
    "        torch.save(model.state_dict(), \"../models/gcn_hyd.pth\")\n",
    "print(f\"MSE: {val_mse:.4f}, MAE: {val_mae:.4f}\")\n",
    "print(f\"Model Saved for best validation loss: {best_val_loss}\")\n"
   ]
  },
  {
   "cell_type": "code",
   "execution_count": null,
   "metadata": {},
   "outputs": [],
   "source": [
    "epochs = range(1, epochs+1)\n",
    "\n",
    "plt.figure(figsize=(10, 6))\n",
    "plt.plot(epochs, training_loss, label=\"Training loss\", color=\"blue\", linestyle=\"--\", linewidth=2)\n",
    "plt.plot(epochs, validation_loss, label=\"Validation loss\", color=\"orange\", linestyle=\"-\", linewidth=2)\n",
    "\n",
    "plt.xlabel(\"Epochs\", fontsize=14)\n",
    "plt.ylabel(\"Loss\", fontsize=14)\n",
    "plt.title(\"Loss vs. Epochs for Hydro Sector\", fontsize=16, weight=\"bold\")\n",
    "\n",
    "plt.grid(color=\"gray\", linestyle=\"--\", linewidth=0.5, alpha=0.7)\n",
    "\n",
    "plt.legend(fontsize=12)\n",
    "\n",
    "plt.xticks(fontsize=12)\n",
    "plt.yticks(fontsize=12)\n",
    "\n",
    "plt.tight_layout()\n",
    "plt.show()"
   ]
  },
  {
   "cell_type": "code",
   "execution_count": null,
   "metadata": {},
   "outputs": [],
   "source": []
  }
 ],
 "metadata": {
  "kernelspec": {
   "display_name": "gnn",
   "language": "python",
   "name": "python3"
  },
  "language_info": {
   "codemirror_mode": {
    "name": "ipython",
    "version": 3
   },
   "file_extension": ".py",
   "mimetype": "text/x-python",
   "name": "python",
   "nbconvert_exporter": "python",
   "pygments_lexer": "ipython3",
   "version": "3.12.5"
  }
 },
 "nbformat": 4,
 "nbformat_minor": 2
}
