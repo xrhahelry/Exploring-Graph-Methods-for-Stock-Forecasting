{
 "cells": [
  {
   "cell_type": "code",
   "execution_count": 1,
   "metadata": {},
   "outputs": [],
   "source": [
    "import pandas as pd\n",
    "import numpy as np \n",
    "import matplotlib as plt\n",
    "import seaborn as sns \n"
   ]
  },
  {
   "cell_type": "code",
   "execution_count": 10,
   "metadata": {},
   "outputs": [],
   "source": [
    "df1 = pd.read_csv(\"./fundamental data/commercial bank/Agricultural Development Bank Limited ( ADBL ).csv\")\n",
    "df2 = pd.read_csv(\"./fundamental data/commercial bank/Citizens Bank International Limited ( CZBIL ).csv\")\n",
    "df3 = pd.read_csv(\"./fundamental data/commercial bank/Everest Bank Limited ( EBL ).csv\")\n",
    "df4 = pd.read_csv(\"./fundamental data/commercial bank/Global IME Bank Limited ( GBIME ).csv\")\n",
    "df5 = pd.read_csv(\"./fundamental data/commercial bank/Himalayan Bank Limited ( HBL ).csv\")\n",
    "df6 = pd.read_csv(\"./fundamental data/commercial bank/Kumari Bank Limited ( KBL ).csv\")\n",
    "df7 = pd.read_csv(\"./fundamental data/commercial bank/Machhapuchchhre Bank Limited ( MBL ).csv\")\n",
    "df8 = pd.read_csv(\"./fundamental data/commercial bank/Nabil Bank Limited ( NABIL ).csv\")\n",
    "df9 = pd.read_csv(\"./fundamental data/commercial bank/Nepal Bank Limited ( NBL ).csv\")\n",
    "df10 = pd.read_csv(\"./fundamental data/commercial bank/Nepal SBI Bank Limited ( SBI ).csv\")\n",
    "df11 = pd.read_csv(\"./fundamental data/commercial bank/NIC Asia Bank Limited ( NICA ).csv\")\n",
    "df12 = pd.read_csv(\"./fundamental data/commercial bank/NMB Bank Limited ( NMB ).csv\")\n",
    "df13 = pd.read_csv(\"./fundamental data/commercial bank/Prabhu Bank Limited ( PRVU ).csv\")\n",
    "df14 = pd.read_csv(\"./fundamental data/commercial bank/Prime Commercial Bank Limited ( PCBL ).csv\")\n",
    "df15 = pd.read_csv(\"./fundamental data/commercial bank/Sanima Bank Limited ( SANIMA ).csv\")\n",
    "df16 = pd.read_csv(\"./fundamental data/commercial bank/Siddhartha Bank Limited ( SBL ).csv\")\n",
    "df17 = pd.read_csv(\"./fundamental data/commercial bank/Standard Chartered Bank Nepal Limited ( SCB ).csv\")\n"
   ]
  },
  {
   "cell_type": "code",
   "execution_count": null,
   "metadata": {},
   "outputs": [],
   "source": [
    "# df17.insert(0, \"symbol\", \"SCB\")\n",
    "df17\n"
   ]
  },
  {
   "cell_type": "code",
   "execution_count": 32,
   "metadata": {},
   "outputs": [
    {
     "name": "stdout",
     "output_type": "stream",
     "text": [
      "      symbol published_date   open   high    low  close  per_change  \\\n",
      "0       ADBL      9/20/2011  117.0  120.0  118.0  118.0        0.85   \n",
      "1       ADBL      9/21/2011  118.0  117.0  117.0  117.0       -0.85   \n",
      "2       ADBL      9/22/2011  117.0  120.0  116.0  118.0        0.85   \n",
      "3       ADBL      9/25/2011  118.0  120.0  116.0  120.0        1.69   \n",
      "4       ADBL      9/26/2011  120.0  120.0  115.0  120.0        0.00   \n",
      "...      ...            ...    ...    ...    ...    ...         ...   \n",
      "45533    SCB     2024-03-05  525.0  530.0  514.4  517.6       -1.41   \n",
      "45534    SCB     2024-03-06  508.3  524.2  508.0  519.0        0.27   \n",
      "45535    SCB     2024-03-07  519.0  528.0  518.0  521.0        0.39   \n",
      "45536    SCB     2024-03-10  528.5  529.0  518.5  521.3        0.06   \n",
      "45537    SCB     2024-03-12  525.0  540.0  520.4  539.6        3.51   \n",
      "\n",
      "       traded_quantity  traded_amount  status  \n",
      "0                571.0        68039.0     NaN  \n",
      "1                683.0        79911.0     NaN  \n",
      "2               1230.0       145130.0     NaN  \n",
      "3               2124.0       249661.0     NaN  \n",
      "4               1155.0       136110.0     NaN  \n",
      "...                ...            ...     ...  \n",
      "45533           9514.0      4915026.7    -1.0  \n",
      "45534           7914.0      4079099.3     1.0  \n",
      "45535           4949.0      2572275.5     1.0  \n",
      "45536           5082.0      2656581.3    -1.0  \n",
      "45537          30695.0     16274849.2     1.0  \n",
      "\n",
      "[45538 rows x 10 columns]\n"
     ]
    }
   ],
   "source": [
    "dataframes =[df1,df2,df3,df4,df5,df6,df7,df8,df9,df10,df11,df12,df13,df14,df15,df16,df17]\n",
    "merged_df = dataframes[0]\n",
    "\n",
    "for df in dataframes[1:]:\n",
    "    merged_df = pd.concat([merged_df, df.iloc[1:]], ignore_index=True)\n",
    "\n",
    "print(merged_df)"
   ]
  },
  {
   "cell_type": "code",
   "execution_count": 34,
   "metadata": {},
   "outputs": [],
   "source": [
    "merged_df.to_csv(\"./fundamental data/commercial.csv\", index=False)"
   ]
  },
  {
   "cell_type": "code",
   "execution_count": null,
   "metadata": {},
   "outputs": [],
   "source": []
  }
 ],
 "metadata": {
  "kernelspec": {
   "display_name": "venv",
   "language": "python",
   "name": "python3"
  },
  "language_info": {
   "codemirror_mode": {
    "name": "ipython",
    "version": 3
   },
   "file_extension": ".py",
   "mimetype": "text/x-python",
   "name": "python",
   "nbconvert_exporter": "python",
   "pygments_lexer": "ipython3",
   "version": "3.11.7"
  }
 },
 "nbformat": 4,
 "nbformat_minor": 2
}
